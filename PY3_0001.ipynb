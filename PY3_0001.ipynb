{
  "nbformat": 4,
  "nbformat_minor": 0,
  "metadata": {
    "colab": {
      "provenance": [],
      "authorship_tag": "ABX9TyOGRrFtNdav1bHri35pgjui",
      "include_colab_link": true
    },
    "kernelspec": {
      "name": "python3",
      "display_name": "Python 3"
    },
    "language_info": {
      "name": "python"
    }
  },
  "cells": [
    {
      "cell_type": "markdown",
      "metadata": {
        "id": "view-in-github",
        "colab_type": "text"
      },
      "source": [
        "<a href=\"https://colab.research.google.com/github/NerdLi/TEST01/blob/master/PY3_0001.ipynb\" target=\"_parent\"><img src=\"https://colab.research.google.com/assets/colab-badge.svg\" alt=\"Open In Colab\"/></a>"
      ]
    },
    {
      "cell_type": "code",
      "execution_count": null,
      "metadata": {
        "id": "D_1XcreVPF4U"
      },
      "outputs": [],
      "source": [
        "# 1\n",
        "def a1(a,b,c,d):\n",
        "  print(\"|\"+(\"{:>7.4f}\".format(a)+\"   \"+(\"{:.4f}\".format(b))+\"|\"))\n",
        "  print(\"|\"+(\"{:.4f}\".format(c)+\"   \"+(\"{:.4f}\".format(d))+\"|\"))"
      ]
    },
    {
      "cell_type": "code",
      "source": [
        "a1(1,2,3,4)"
      ],
      "metadata": {
        "colab": {
          "base_uri": "https://localhost:8080/"
        },
        "id": "DV1wR5hJQs_i",
        "outputId": "a652206c-8489-4e2e-f16a-717e33f5f6d9"
      },
      "execution_count": null,
      "outputs": [
        {
          "output_type": "stream",
          "name": "stdout",
          "text": [
            "|1.0000   2.0000|\n",
            "|3.0000   4.0000|\n"
          ]
        }
      ]
    },
    {
      "cell_type": "code",
      "source": [
        "def print_float_numbers(num1, num2, num3, num4):\n",
        "    nums = [num1, num2, num3, num4]\n",
        "    for num in nums:\n",
        "        print(\"|{:>7.4f}\".format(num), end=\"\")\n",
        "    print(\"|\")\n",
        "    for num in nums:\n",
        "        print(\"|{:<7.4f}\".format(num), end=\"\")\n",
        "    print(\"|\")\n",
        "\n",
        "print_float_numbers(1.2345, 2.3456, 3.4567, 4.5678)"
      ],
      "metadata": {
        "colab": {
          "base_uri": "https://localhost:8080/"
        },
        "id": "KcdYf-obQkvs",
        "outputId": "1bd69d70-aea2-473b-85a0-701e952af0fd"
      },
      "execution_count": null,
      "outputs": [
        {
          "output_type": "stream",
          "name": "stdout",
          "text": [
            "| 1.2345| 2.3456| 3.4567| 4.5678|\n",
            "|1.2345 |2.3456 |3.4567 |4.5678 |\n"
          ]
        }
      ]
    },
    {
      "cell_type": "code",
      "source": [
        "a=eval(input())\n",
        "b=eval(input())\n",
        "c=eval(input())\n",
        "d=eval(input())\n",
        "print((\"|{:7.2f} {:7.2f}|\").format(a,b))\n",
        "print((\"|{:7.2f} {:7.2f}|\").format(c,d))\n",
        "print((\"|{:<7.2f} {:<7.2f}|\").format(a,b))\n",
        "print((\"|{:<7.2f} {:<7.2f}|\").format(c,d))"
      ],
      "metadata": {
        "colab": {
          "base_uri": "https://localhost:8080/"
        },
        "id": "UU5v3isPUGLZ",
        "outputId": "a4f73042-f5ad-4674-cf9e-5d90c15e9317"
      },
      "execution_count": null,
      "outputs": [
        {
          "output_type": "stream",
          "name": "stdout",
          "text": [
            "1\n",
            "2\n",
            "3\n",
            "4\n",
            "|   1.00    2.00|\n",
            "|   3.00    4.00|\n",
            "|1.00    2.00   |\n",
            "|3.00    4.00   |\n"
          ]
        }
      ]
    },
    {
      "cell_type": "code",
      "source": [
        "# 請撰寫一程式，輸入四個分別含有小數 1 到 4 位的浮點數，然後將這 四個浮點數以欄寬為 7、每列印兩個的方式，先列印向右靠齊，再列 印向左靠齊，左右皆以直線 |（Vertical bar）作為邊界。\n",
        "def a1():\n",
        "  a=eval(input())\n",
        "  b=eval(input())\n",
        "  c=eval(input())\n",
        "  d=eval(input())\n",
        "  print((\"|{:7.2f} {:7.2f}|\").format(a,b))\n",
        "  print((\"|{:7.2f} {:7.2f}|\").format(c,d))\n",
        "  print((\"|{:<7.2f} {:<7.2f}|\").format(a,b))\n",
        "  print((\"|{:<7.2f} {:<7.2f}|\").format(c,d))\n",
        "  print((\"|{:>7.2f} {:>7.2f}|\").format(a,b))\n",
        "  print((\"|{:>7.2f} {:>7.2f}|\").format(c,d))"
      ],
      "metadata": {
        "id": "VJ2rvaXNUZuW"
      },
      "execution_count": null,
      "outputs": []
    },
    {
      "cell_type": "code",
      "source": [
        "a1()\n"
      ],
      "metadata": {
        "colab": {
          "base_uri": "https://localhost:8080/"
        },
        "id": "IfUkl4qEUqhX",
        "outputId": "8f97efaa-cee0-44f7-dcc7-c05c45a2c2b8"
      },
      "execution_count": null,
      "outputs": [
        {
          "output_type": "stream",
          "name": "stdout",
          "text": [
            "1\n",
            "2\n",
            "3\n",
            "4\n",
            "|   1.00    2.00|\n",
            "|   3.00    4.00|\n",
            "|1.00    2.00   |\n",
            "|3.00    4.00   |\n",
            "|   1.00    2.00|\n",
            "|   3.00    4.00|\n"
          ]
        }
      ]
    },
    {
      "cell_type": "code",
      "source": [
        "#2 請使用選擇敘述撰寫一程式，讓使用者輸入一個正整數，然後判斷它 是 3 或 5 的倍數，若此數值同時為 3 與 5 的倍數，顯示【x is a multiple of 3 and 5.】；如此數值皆不屬於 3 或 5 的倍數，顯示【x is not a multiple of 3 or 5.】，將使用者輸入的數值代入 x。\n",
        "def a2():\n",
        "  a = eval(input())\n",
        "  if a%3 == 0 and a%5 !=0:\n",
        "    print('x is a multiple of 3')\n",
        "  elif a%3 != 0 and a%5 ==0:\n",
        "    print('x is a multiple of 5')\n",
        "  elif a%3 == 0 and a%5 ==0:\n",
        "    print('x is a multiple of 3 and 5')\n",
        "  else:\n",
        "    print('x is not a multiple of 3 and 5')\n"
      ],
      "metadata": {
        "id": "nXIBM7Itu61d"
      },
      "execution_count": null,
      "outputs": []
    },
    {
      "cell_type": "code",
      "source": [
        "a2()"
      ],
      "metadata": {
        "colab": {
          "base_uri": "https://localhost:8080/"
        },
        "id": "o5SGXZNuvgrx",
        "outputId": "ac6de81b-27e5-4293-faa7-8b787d882400"
      },
      "execution_count": null,
      "outputs": [
        {
          "output_type": "stream",
          "name": "stdout",
          "text": [
            "15\n",
            "x is a multiple of 3 and 5\n"
          ]
        }
      ]
    },
    {
      "cell_type": "code",
      "source": [
        "#3 請使用迴圈敘述撰寫一程式，讓使用者輸入兩個正整數 a、b（a < b）， 利用迴圈計算從 a 開始的偶數連加到 b 的總和。例如：輸入 a=1、 b=100，則輸出結果為 2550（2 + 4 + … + 100 = 2550）。\n",
        "def a3():\n",
        "  a = eval(input())\n",
        "  b = eval(input())\n",
        "  c = min(a,b)\n",
        "  d = max(a,b)\n",
        "  if c%2!=0:\n",
        "    c = c+1\n",
        "  if d%2!=0:\n",
        "    d = d+1\n",
        "  return sum(range(c,d+2,2))\n"
      ],
      "metadata": {
        "id": "0Z3DT47hvhEA"
      },
      "execution_count": null,
      "outputs": []
    },
    {
      "cell_type": "code",
      "source": [
        "a3()"
      ],
      "metadata": {
        "colab": {
          "base_uri": "https://localhost:8080/"
        },
        "id": "-4-z6MAbw2ED",
        "outputId": "f13794ad-8f14-4518-e435-c9d5c78b9094"
      },
      "execution_count": null,
      "outputs": [
        {
          "name": "stdout",
          "output_type": "stream",
          "text": [
            "100\n",
            "1\n"
          ]
        },
        {
          "output_type": "execute_result",
          "data": {
            "text/plain": [
              "2550"
            ]
          },
          "metadata": {},
          "execution_count": 35
        }
      ]
    },
    {
      "cell_type": "code",
      "source": [
        "#4 請撰寫一程式，讓使用者輸入數字，輸入的動作直到輸入值為 9999 才結束，然後找出其最小值，並輸出最小值。\n",
        "def a4():\n",
        "  b = []\n",
        "  while True:\n",
        "    a = eval(input())\n",
        "    if a == 9999:\n",
        "      print(min(b))\n",
        "      break\n",
        "    else:\n",
        "      b.append(a)"
      ],
      "metadata": {
        "id": "FM-bNs-ayfjM"
      },
      "execution_count": null,
      "outputs": []
    },
    {
      "cell_type": "code",
      "source": [
        "a4()"
      ],
      "metadata": {
        "colab": {
          "base_uri": "https://localhost:8080/"
        },
        "id": "sSsbNu404Xrp",
        "outputId": "bb8bb8c1-2b5d-4049-ffab-53ea06000f79"
      },
      "execution_count": null,
      "outputs": [
        {
          "output_type": "stream",
          "name": "stdout",
          "text": [
            "4\n",
            "5\n",
            "10\n",
            "15\n",
            "9999\n",
            "4\n"
          ]
        }
      ]
    },
    {
      "cell_type": "code",
      "source": [
        "#5 請撰寫一程式，將使用者輸入的兩個數字作為參數傳遞給一個名為 compute(x, y)的函式，此函式將回傳 x 和 y 的乘積。\n",
        "def compute(x,y):\n",
        "  return x*y\n",
        "\n",
        "def a5():\n",
        "  a = eval(input())\n",
        "  b = eval(input())\n",
        "  return compute(a,b)"
      ],
      "metadata": {
        "id": "N36QC3K-4uCp"
      },
      "execution_count": null,
      "outputs": []
    },
    {
      "cell_type": "code",
      "source": [
        "a5()"
      ],
      "metadata": {
        "colab": {
          "base_uri": "https://localhost:8080/"
        },
        "id": "UznayUkM7ixw",
        "outputId": "a2cf92a2-2c2c-4f19-cb8e-0c6d8d68a9e8"
      },
      "execution_count": null,
      "outputs": [
        {
          "name": "stdout",
          "output_type": "stream",
          "text": [
            "10\n",
            "20\n"
          ]
        },
        {
          "output_type": "execute_result",
          "data": {
            "text/plain": [
              "200"
            ]
          },
          "metadata": {},
          "execution_count": 45
        }
      ]
    },
    {
      "cell_type": "code",
      "source": [
        "#6 請撰寫一程式，讓使用者輸入 52 張牌中的 5 張，計算並輸出其總和。  提示：J、Q、K 以及 A 分別代表 11、12、13 以及 1。"
      ],
      "metadata": {
        "id": "HgjscUxJ7y56"
      },
      "execution_count": null,
      "outputs": []
    },
    {
      "cell_type": "code",
      "source": [
        "def a6():\n",
        "  b = []\n",
        "  card_values = {\"A\": 1, \"2\": 2, \"3\": 3, \"4\": 4, \"5\": 5, \"6\": 6, \"7\": 7, \"8\": 8, \"9\": 9, \"10\": 10, \"J\": 11, \"Q\": 12, \"K\": 13}\n",
        "  for i in range(5):\n",
        "    d = card_values[input()]\n",
        "    b.append(int(d))\n",
        "  return sum(b)\n"
      ],
      "metadata": {
        "id": "HGJNxIfu7y-4"
      },
      "execution_count": null,
      "outputs": []
    },
    {
      "cell_type": "code",
      "source": [
        "def a_6():\n",
        "  L=[]\n",
        "  for i in range(5):\n",
        "    x=input()\n",
        "    if x=='A':\n",
        "      x=1\n",
        "    if x=='J':\n",
        "      x=11\n",
        "    if x=='Q':\n",
        "      x=12\n",
        "    if x=='K':\n",
        "      x=13\n",
        "    L.append(int(x))\n",
        "  print(sum(L))"
      ],
      "metadata": {
        "id": "RgpHwkqR7zMW"
      },
      "execution_count": null,
      "outputs": []
    },
    {
      "cell_type": "code",
      "source": [
        "a6()"
      ],
      "metadata": {
        "colab": {
          "base_uri": "https://localhost:8080/"
        },
        "id": "P2IcRCSdBTQq",
        "outputId": "2a8da6fe-b0c2-4f01-bb14-ed0256598fb1"
      },
      "execution_count": null,
      "outputs": [
        {
          "name": "stdout",
          "output_type": "stream",
          "text": [
            "A\n",
            "J\n",
            "Q\n",
            "K\n",
            "2\n"
          ]
        },
        {
          "output_type": "execute_result",
          "data": {
            "text/plain": [
              "39"
            ]
          },
          "metadata": {},
          "execution_count": 74
        }
      ]
    },
    {
      "cell_type": "code",
      "source": [
        "a_6()"
      ],
      "metadata": {
        "colab": {
          "base_uri": "https://localhost:8080/"
        },
        "id": "ZNQGQ_AyBo_4",
        "outputId": "48f62938-ec4c-419f-8360-9a27a4f9aee0"
      },
      "execution_count": null,
      "outputs": [
        {
          "output_type": "stream",
          "name": "stdout",
          "text": [
            "1\n",
            "2\n",
            "3\n",
            "4\n",
            "5\n",
            "15\n"
          ]
        }
      ]
    },
    {
      "cell_type": "code",
      "source": [
        "#7 請撰寫一程式，輸入並建立兩組數組，各以-9999 為結束點（數組中 不包含-9999）。將此兩數組合併並從小到大排序之，顯示排序前的數 組和排序後的串列\n",
        "def a7():\n",
        "  b=[]\n",
        "  while True:\n",
        "    c = eval(input(\"請輸入數字（輸入 -9999 結束）：\"))\n",
        "    if c == -9999:\n",
        "      break\n",
        "    else:\n",
        "      b.append(c)\n",
        "  d=[]\n",
        "  while True:\n",
        "    e = eval(input(\"請輸入數字（輸入 -9999 結束）：\"))\n",
        "    if e == -9999:\n",
        "      break\n",
        "    else:\n",
        "      d.append(e)\n",
        "  f = b+d\n",
        "  return print(sorted(f))\n"
      ],
      "metadata": {
        "id": "z5cIioubBpCq"
      },
      "execution_count": null,
      "outputs": []
    },
    {
      "cell_type": "code",
      "source": [
        "b = [1,2,5]\n",
        "c = [4,5,6]\n",
        "d = b+c\n",
        "\n",
        "print(sorted(d))"
      ],
      "metadata": {
        "colab": {
          "base_uri": "https://localhost:8080/"
        },
        "id": "qmciNhChQQAB",
        "outputId": "1960b923-dc99-4c24-b10b-88a3dd1bc32a"
      },
      "execution_count": null,
      "outputs": [
        {
          "output_type": "stream",
          "name": "stdout",
          "text": [
            "[1, 2, 4, 5, 5, 6]\n"
          ]
        }
      ]
    },
    {
      "cell_type": "code",
      "source": [
        "a7()"
      ],
      "metadata": {
        "colab": {
          "base_uri": "https://localhost:8080/"
        },
        "id": "orBNASGUBpFP",
        "outputId": "8b55c2aa-1e0f-4c98-adb3-2586698b1edd"
      },
      "execution_count": null,
      "outputs": [
        {
          "output_type": "stream",
          "name": "stdout",
          "text": [
            "請輸入數字（輸入 -9999 結束）：1\n",
            "請輸入數字（輸入 -9999 結束）：-9999\n",
            "請輸入數字（輸入 -9999 結束）：2\n",
            "請輸入數字（輸入 -9999 結束）：-9999\n",
            "[1, 2]\n"
          ]
        }
      ]
    },
    {
      "cell_type": "code",
      "source": [
        "def create_array():\n",
        "    arr = []\n",
        "    while True:\n",
        "        num = int(input(\"請輸入數字（輸入 -9999 結束）：\"))\n",
        "        if num == -9999:\n",
        "            break\n",
        "        arr.append(num)\n",
        "    return arr\n",
        "\n",
        "def merge_sort(arr1, arr2):\n",
        "    arr = arr1 + arr2\n",
        "    arr.sort()\n",
        "    return arr\n",
        "\n",
        "arr1 = create_array()\n",
        "print(\"第一組數組：\", arr1)\n",
        "\n",
        "arr2 = create_array()\n",
        "print(\"第二組數組：\", arr2)\n",
        "\n",
        "arr = merge_sort(arr1, arr2)\n",
        "print(\"合併並排序後的數組：\", arr)"
      ],
      "metadata": {
        "colab": {
          "base_uri": "https://localhost:8080/"
        },
        "id": "hrm_MJROBpHu",
        "outputId": "c1245f46-8791-439d-90b8-aefc4ac705e6"
      },
      "execution_count": null,
      "outputs": [
        {
          "output_type": "stream",
          "name": "stdout",
          "text": [
            "請輸入數字（輸入 -9999 結束）：100\n",
            "請輸入數字（輸入 -9999 結束）：-9999\n",
            "第一組數組： [100]\n",
            "請輸入數字（輸入 -9999 結束）：2000\n",
            "請輸入數字（輸入 -9999 結束）：-9999\n",
            "第二組數組： [2000]\n",
            "合併並排序後的數組： [100, 2000]\n"
          ]
        }
      ]
    },
    {
      "cell_type": "code",
      "source": [
        "#8 依序輸出字串中每個字元對應的 ASCII 碼 每個字元 ASCII 碼的總和\n",
        "def a8():\n",
        "  a = input('請輸入一個字串')\n",
        "  b = []\n",
        "  for i in a:\n",
        "    print(i,'的ASCII為',ord(i))\n",
        "    b.append(ord(i))\n",
        "  return sum(b)"
      ],
      "metadata": {
        "id": "SE0u-vWSBpKO"
      },
      "execution_count": null,
      "outputs": []
    },
    {
      "cell_type": "code",
      "source": [
        "a8()"
      ],
      "metadata": {
        "colab": {
          "base_uri": "https://localhost:8080/"
        },
        "id": "lBdR6q1xBpMX",
        "outputId": "1e85f0b0-80e5-42e1-9833-11e7d5f606c7"
      },
      "execution_count": null,
      "outputs": [
        {
          "output_type": "stream",
          "name": "stdout",
          "text": [
            "請輸入一個字串Kingdom\n",
            "K 的ASCII為 75\n",
            "i 的ASCII為 105\n",
            "n 的ASCII為 110\n",
            "g 的ASCII為 103\n",
            "d 的ASCII為 100\n",
            "o 的ASCII為 111\n",
            "m 的ASCII為 109\n"
          ]
        },
        {
          "output_type": "execute_result",
          "data": {
            "text/plain": [
              "713"
            ]
          },
          "metadata": {},
          "execution_count": 122
        }
      ]
    },
    {
      "cell_type": "code",
      "source": [
        "#9 請撰寫一程式，讀取 read.txt 的內容（內容為數字，以空白分隔）並 將這些數字加總，接著再顯示檔案內容和加總的結果。檔案讀取完成 後要關閉。\n",
        "with open (\"read.txt\",\"r\",encoding=\"UTF-8\") as fp:\n",
        "    for i in fp:\n",
        "        a = i.split(\" \")\n",
        "        print(a)\n",
        "        num = []\n",
        "        for j in range(len(a)):\n",
        "            num.append(int(a[j]))\n",
        "        print(sum(num))"
      ],
      "metadata": {
        "id": "_W8d9PMzVoNn",
        "colab": {
          "base_uri": "https://localhost:8080/"
        },
        "outputId": "bf9452a6-c4e3-4017-b658-6d8f097d1b88"
      },
      "execution_count": 136,
      "outputs": [
        {
          "output_type": "stream",
          "name": "stdout",
          "text": [
            "['11', '2', '22', '5', '66', '5', '5', '41', '2']\n",
            "159\n"
          ]
        }
      ]
    },
    {
      "cell_type": "code",
      "source": [
        "pwd"
      ],
      "metadata": {
        "id": "O1l28TRRVoQR",
        "colab": {
          "base_uri": "https://localhost:8080/",
          "height": 36
        },
        "outputId": "c893e2ae-aae7-4e2d-9fdc-5871da4f9d95"
      },
      "execution_count": 123,
      "outputs": [
        {
          "output_type": "execute_result",
          "data": {
            "text/plain": [
              "'/content'"
            ],
            "application/vnd.google.colaboratory.intrinsic+json": {
              "type": "string"
            }
          },
          "metadata": {},
          "execution_count": 123
        }
      ]
    },
    {
      "cell_type": "code",
      "source": [],
      "metadata": {
        "id": "-zDHUuRhVoSz"
      },
      "execution_count": null,
      "outputs": []
    }
  ]
}